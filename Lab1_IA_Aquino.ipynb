{
  "nbformat": 4,
  "nbformat_minor": 0,
  "metadata": {
    "colab": {
      "name": "Lab1_IA_Aquino.ipynb",
      "provenance": [],
      "authorship_tag": "ABX9TyO/2X+nWYHblIN5ORtfU9Pc",
      "include_colab_link": true
    },
    "kernelspec": {
      "name": "python3",
      "display_name": "Python 3"
    },
    "language_info": {
      "name": "python"
    }
  },
  "cells": [
    {
      "cell_type": "markdown",
      "metadata": {
        "id": "view-in-github",
        "colab_type": "text"
      },
      "source": [
        "<a href=\"https://colab.research.google.com/github/virginiayjd7/Aquino_AsyncTaskHttpUrlConnection/blob/master/Lab1_IA_Aquino.ipynb\" target=\"_parent\"><img src=\"https://colab.research.google.com/assets/colab-badge.svg\" alt=\"Open In Colab\"/></a>"
      ]
    },
    {
      "cell_type": "code",
      "metadata": {
        "colab": {
          "base_uri": "https://localhost:8080/"
        },
        "id": "L0Kbo9J1sFHV",
        "outputId": "bcfcda3d-b6c9-4c09-b1d1-c7c185d44419"
      },
      "source": [
        "try:\n",
        "  import nltk \n",
        "  print(\"libreria 'nltk' se cargo correctamente\")\n",
        "except ModuleNotFoundError:\n",
        "    print(\"libreria 'nltk' no esta instalada\") \n",
        "    get_ipython().system('pip install nltk')\n",
        "    import nltk"
      ],
      "execution_count": 2,
      "outputs": [
        {
          "output_type": "stream",
          "text": [
            "libreria 'nltk' se cargo correctamente\n"
          ],
          "name": "stdout"
        }
      ]
    },
    {
      "cell_type": "code",
      "metadata": {
        "colab": {
          "base_uri": "https://localhost:8080/"
        },
        "id": "Iu_dqv0ZyFad",
        "outputId": "4d0c70e0-61bb-4ad7-96ef-3a57e98e38d1"
      },
      "source": [
        "try:\n",
        "  import spacy\n",
        "  print(\"libreria 'spacy' se cargo correctamente\")\n",
        "except ModuleNotFoundError:\n",
        "    print(\"libreria 'spacy' no esta instalada\") \n",
        "    get_ipython().system('pip install spacy')\n",
        "    import spacy"
      ],
      "execution_count": 3,
      "outputs": [
        {
          "output_type": "stream",
          "text": [
            "libreria 'spacy' se cargo correctamente\n"
          ],
          "name": "stdout"
        }
      ]
    },
    {
      "cell_type": "code",
      "metadata": {
        "colab": {
          "base_uri": "https://localhost:8080/"
        },
        "id": "AeSksm1oyY4a",
        "outputId": "c9cbf3bd-9816-47c7-ccb8-768f010b0083"
      },
      "source": [
        "nltk.download('punkt')"
      ],
      "execution_count": 4,
      "outputs": [
        {
          "output_type": "stream",
          "text": [
            "[nltk_data] Downloading package punkt to /root/nltk_data...\n",
            "[nltk_data]   Unzipping tokenizers/punkt.zip.\n"
          ],
          "name": "stdout"
        },
        {
          "output_type": "execute_result",
          "data": {
            "text/plain": [
              "True"
            ]
          },
          "metadata": {
            "tags": []
          },
          "execution_count": 4
        }
      ]
    },
    {
      "cell_type": "code",
      "metadata": {
        "id": "8UocWd8Ayh9y"
      },
      "source": [
        "oracion =\"\"\"hola\"\"\""
      ],
      "execution_count": 6,
      "outputs": []
    },
    {
      "cell_type": "code",
      "metadata": {
        "id": "_GsCmEFZysEb"
      },
      "source": [
        "sentencias=nltk.sent_tokenize(oracion)"
      ],
      "execution_count": 7,
      "outputs": []
    },
    {
      "cell_type": "code",
      "metadata": {
        "colab": {
          "base_uri": "https://localhost:8080/"
        },
        "id": "4Ze-ZFZsyzkJ",
        "outputId": "76d503e8-829c-41fb-be55-e67b7471233d"
      },
      "source": [
        "for sen in sentencias:\n",
        "  print(sen)"
      ],
      "execution_count": 8,
      "outputs": [
        {
          "output_type": "stream",
          "text": [
            "hola\n"
          ],
          "name": "stdout"
        }
      ]
    },
    {
      "cell_type": "code",
      "metadata": {
        "id": "tG4Vv7xwy9SR"
      },
      "source": [
        "token_espanol =nltk.data.load('tokenizers/punkt/spanish.pickle')"
      ],
      "execution_count": 11,
      "outputs": []
    },
    {
      "cell_type": "code",
      "metadata": {
        "id": "MN-FLk1jztgs"
      },
      "source": [
        "oracion =\"\"\"hola en español\"\"\""
      ],
      "execution_count": 12,
      "outputs": []
    },
    {
      "cell_type": "code",
      "metadata": {
        "id": "EAgW725Sz3yq"
      },
      "source": [
        "sentencias=nltk.sent_tokenize(oracion)"
      ],
      "execution_count": 13,
      "outputs": []
    },
    {
      "cell_type": "code",
      "metadata": {
        "colab": {
          "base_uri": "https://localhost:8080/"
        },
        "id": "pSq31z890AGS",
        "outputId": "f2cbf841-27be-409a-ae37-4b112e5adefd"
      },
      "source": [
        "for sen in sentencias:\n",
        "  print(sen)"
      ],
      "execution_count": 14,
      "outputs": [
        {
          "output_type": "stream",
          "text": [
            "hola en español\n"
          ],
          "name": "stdout"
        }
      ]
    },
    {
      "cell_type": "code",
      "metadata": {
        "id": "FokBaMzy0CT6"
      },
      "source": [
        "token_palabras =nltk.word_tokenize(oracion)"
      ],
      "execution_count": 15,
      "outputs": []
    },
    {
      "cell_type": "code",
      "metadata": {
        "colab": {
          "base_uri": "https://localhost:8080/"
        },
        "id": "hosnaljy0QMb",
        "outputId": "c5979910-e5aa-4034-b94d-a28d121e5d62"
      },
      "source": [
        "for sen in token_palabras:\n",
        "  print(sen)"
      ],
      "execution_count": 16,
      "outputs": [
        {
          "output_type": "stream",
          "text": [
            "hola\n",
            "en\n",
            "español\n"
          ],
          "name": "stdout"
        }
      ]
    },
    {
      "cell_type": "code",
      "metadata": {
        "id": "o2vLquCG0Xwr"
      },
      "source": [
        "tokens_regexp=nltk.tokenize.regexp.regexp_tokenize(oracion,\"[\\w]+\")"
      ],
      "execution_count": 17,
      "outputs": []
    },
    {
      "cell_type": "code",
      "metadata": {
        "colab": {
          "base_uri": "https://localhost:8080/"
        },
        "id": "GU_gFv0K0xRz",
        "outputId": "2fd97bc0-bb45-4280-ee42-4cb5054481f3"
      },
      "source": [
        "for sen in tokens_regexp:\n",
        "  print(sen)"
      ],
      "execution_count": 18,
      "outputs": [
        {
          "output_type": "stream",
          "text": [
            "hola\n",
            "en\n",
            "español\n"
          ],
          "name": "stdout"
        }
      ]
    }
  ]
}