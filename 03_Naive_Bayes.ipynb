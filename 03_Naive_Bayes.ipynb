{
  "nbformat": 4,
  "nbformat_minor": 0,
  "metadata": {
    "colab": {
      "name": "03 Naive Bayes.ipynb",
      "provenance": [],
      "authorship_tag": "ABX9TyNS6bsjiTAeMLKLtkwjIDOA",
      "include_colab_link": true
    },
    "kernelspec": {
      "name": "python3",
      "display_name": "Python 3"
    },
    "language_info": {
      "name": "python"
    }
  },
  "cells": [
    {
      "cell_type": "markdown",
      "metadata": {
        "id": "view-in-github",
        "colab_type": "text"
      },
      "source": [
        "<a href=\"https://colab.research.google.com/github/virginiayjd7/Lab1_IA/blob/master/03_Naive_Bayes.ipynb\" target=\"_parent\"><img src=\"https://colab.research.google.com/assets/colab-badge.svg\" alt=\"Open In Colab\"/></a>"
      ]
    },
    {
      "cell_type": "code",
      "metadata": {
        "colab": {
          "base_uri": "https://localhost:8080/"
        },
        "id": "oWI02XfNXs0t",
        "outputId": "f1d2f097-84bc-4b6c-be42-2f7bbe8e9d10"
      },
      "source": [
        "try:\n",
        "  from nltk import NaiveBayesClassifier as nbc\n",
        "  from nltk.tokenize import word_tokenize \n",
        "  print(\"libreria 'nltk' se cargo correctamente\")\n",
        "except ModuleNotFoundError:\n",
        "    print(\"libreria 'nltk' no esta instalada\") \n",
        "    get_ipython().system('pip install nltk')\n",
        "    from nltk import NaiveBayesClassifier as nbc\n",
        "    from nltk.tokenize import word_tokenize "
      ],
      "execution_count": 35,
      "outputs": [
        {
          "output_type": "stream",
          "text": [
            "libreria 'nltk' se cargo correctamente\n"
          ],
          "name": "stdout"
        }
      ]
    },
    {
      "cell_type": "code",
      "metadata": {
        "colab": {
          "base_uri": "https://localhost:8080/"
        },
        "id": "MyMoGDXKYrF4",
        "outputId": "9a6d3aad-0659-4bdc-ed05-d941e6452664"
      },
      "source": [
        "try:\n",
        "  from itertools import chain\n",
        "  print(\"libreria 'itertools' se cargo correctamente\")\n",
        "except ModuleNotFoundError:\n",
        "    print(\"libreria 'itertools' no esta instalada\") \n",
        "    get_ipython().system('pip install itertools')\n",
        "    from itertools import chain"
      ],
      "execution_count": 36,
      "outputs": [
        {
          "output_type": "stream",
          "text": [
            "libreria 'itertools' se cargo correctamente\n"
          ],
          "name": "stdout"
        }
      ]
    },
    {
      "cell_type": "code",
      "metadata": {
        "colab": {
          "base_uri": "https://localhost:8080/"
        },
        "id": "TlzziBv1Yt3P",
        "outputId": "6ba1a330-53a7-445d-98e0-7cda817d2f56"
      },
      "source": [
        "try:\n",
        "  import joblib\n",
        "  print(\"libreria 'joblib' se cargo correctamente\")\n",
        "except ModuleNotFoundError:\n",
        "    print(\"libreria 'joblib' no esta instalada\") \n",
        "    get_ipython().system('pip install joblib')\n",
        "    import joblib"
      ],
      "execution_count": 37,
      "outputs": [
        {
          "output_type": "stream",
          "text": [
            "libreria 'joblib' se cargo correctamente\n"
          ],
          "name": "stdout"
        }
      ]
    },
    {
      "cell_type": "markdown",
      "metadata": {
        "id": "Wb-4cMDAYy4f"
      },
      "source": [
        "**Lista** **de** **oraciones** **de** **entrenamiento**"
      ]
    },
    {
      "cell_type": "code",
      "metadata": {
        "id": "hcpiy352Y5yX"
      },
      "source": [
        "oraciones_entrenamiento = [\n",
        "('La vida será todo lo positiva que tú le permitas ser', 'pos'),\n",
        "('Esperar puede ser muy difícil pero recoger los frutos de lo sembrado será un gozo', 'pos'),\n",
        "('Aprender a aceptarte es el primer paso para alcanzar la paz interior', 'pos'),\n",
        "('Sólo el amor tiene la fuerza de cambiar la vida de otra persona en cosas de minutos', 'pos'),\n",
        "('Nunca pierdas la esperanza porque la alegría podría entrar por la puerta que olvidaste cerrar', 'pos'),\n",
        "('No viniste nunca más por aquí', 'neg'),\n",
        "('No entiendo cómo pueden hacer eso', 'neg'),\n",
        "('Ya no quedan formas de salir de aquí sin arriesgarse demasiado', 'neg'),\n",
        "('Espero no equivocarme con mi pronóstico', 'neg'),\n",
        "('No había manera de fallar no puedo creer lo que sucedió', 'neg')]"
      ],
      "execution_count": 6,
      "outputs": []
    },
    {
      "cell_type": "markdown",
      "metadata": {
        "id": "xxQVeZnPZQ9J"
      },
      "source": [
        "**Lista de oraciones para prueba**"
      ]
    },
    {
      "cell_type": "code",
      "metadata": {
        "id": "DvKeyTXHZW0m"
      },
      "source": [
        "oracion_prueba_positiva = \" la unidad diferencia entre el exito y el fracaso es la actitud\"\n",
        "oracion_prueba_negativa =\"no entiendo nada de lo que enseñaron la semana pasada\""
      ],
      "execution_count": 33,
      "outputs": []
    },
    {
      "cell_type": "markdown",
      "metadata": {
        "id": "qiBkwU8mZqvG"
      },
      "source": [
        "**se separan todas las palabras en una lista unica(chain=optimizacion para ciclos)**"
      ]
    },
    {
      "cell_type": "code",
      "metadata": {
        "colab": {
          "base_uri": "https://localhost:8080/"
        },
        "id": "lEhV1pRhZyk3",
        "outputId": "351e9480-74d7-44b9-b151-2b91fb6a315d"
      },
      "source": [
        "import nltk\n",
        "nltk.download('punkt')\n",
        "vocabulario = set(chain(*[word_tokenize(i[0].lower())\n",
        " for i in oraciones_entrenamiento]))"
      ],
      "execution_count": 41,
      "outputs": [
        {
          "output_type": "stream",
          "text": [
            "[nltk_data] Downloading package punkt to /root/nltk_data...\n",
            "[nltk_data]   Unzipping tokenizers/punkt.zip.\n"
          ],
          "name": "stdout"
        }
      ]
    },
    {
      "cell_type": "code",
      "metadata": {
        "colab": {
          "base_uri": "https://localhost:8080/"
        },
        "id": "GeBUeBpwa4UB",
        "outputId": "e9f5ebed-fa1e-4b14-c496-402447795fe6"
      },
      "source": [
        "vocabulario"
      ],
      "execution_count": 42,
      "outputs": [
        {
          "output_type": "execute_result",
          "data": {
            "text/plain": [
              "{'a',\n",
              " 'aceptarte',\n",
              " 'alcanzar',\n",
              " 'alegría',\n",
              " 'amor',\n",
              " 'aprender',\n",
              " 'aquí',\n",
              " 'arriesgarse',\n",
              " 'cambiar',\n",
              " 'cerrar',\n",
              " 'con',\n",
              " 'cosas',\n",
              " 'creer',\n",
              " 'cómo',\n",
              " 'de',\n",
              " 'demasiado',\n",
              " 'difícil',\n",
              " 'el',\n",
              " 'en',\n",
              " 'entiendo',\n",
              " 'entrar',\n",
              " 'equivocarme',\n",
              " 'es',\n",
              " 'eso',\n",
              " 'esperanza',\n",
              " 'esperar',\n",
              " 'espero',\n",
              " 'fallar',\n",
              " 'formas',\n",
              " 'frutos',\n",
              " 'fuerza',\n",
              " 'gozo',\n",
              " 'había',\n",
              " 'hacer',\n",
              " 'interior',\n",
              " 'la',\n",
              " 'le',\n",
              " 'lo',\n",
              " 'los',\n",
              " 'manera',\n",
              " 'mi',\n",
              " 'minutos',\n",
              " 'muy',\n",
              " 'más',\n",
              " 'no',\n",
              " 'nunca',\n",
              " 'olvidaste',\n",
              " 'otra',\n",
              " 'para',\n",
              " 'paso',\n",
              " 'paz',\n",
              " 'permitas',\n",
              " 'pero',\n",
              " 'persona',\n",
              " 'pierdas',\n",
              " 'podría',\n",
              " 'por',\n",
              " 'porque',\n",
              " 'positiva',\n",
              " 'primer',\n",
              " 'pronóstico',\n",
              " 'puede',\n",
              " 'pueden',\n",
              " 'puedo',\n",
              " 'puerta',\n",
              " 'que',\n",
              " 'quedan',\n",
              " 'recoger',\n",
              " 'salir',\n",
              " 'sembrado',\n",
              " 'ser',\n",
              " 'será',\n",
              " 'sin',\n",
              " 'sucedió',\n",
              " 'sólo',\n",
              " 'tiene',\n",
              " 'todo',\n",
              " 'tú',\n",
              " 'un',\n",
              " 'vida',\n",
              " 'viniste',\n",
              " 'ya'}"
            ]
          },
          "metadata": {
            "tags": []
          },
          "execution_count": 42
        }
      ]
    },
    {
      "cell_type": "markdown",
      "metadata": {
        "id": "qnhDYVtoakhZ"
      },
      "source": [
        "**se genera para cada oracion si existe o no la oracion de la lista total**"
      ]
    },
    {
      "cell_type": "code",
      "metadata": {
        "id": "Kp9KxZgYbAkV"
      },
      "source": [
        "array_palabras = [({i:(i in word_tokenize(sentence.lower())) for i in vocabulario},tag) for sentence, tag in oraciones_entrenamiento]"
      ],
      "execution_count": 43,
      "outputs": []
    },
    {
      "cell_type": "code",
      "metadata": {
        "colab": {
          "base_uri": "https://localhost:8080/"
        },
        "id": "6M6XjUowbnhl",
        "outputId": "b895a83e-a92f-44a6-8508-11e087ba2d00"
      },
      "source": [
        "for i in array_palabras:\n",
        "  print('Oracion:')\n",
        "  print(i)\n",
        "  print('_______________________________________________')"
      ],
      "execution_count": 44,
      "outputs": [
        {
          "output_type": "stream",
          "text": [
            "Oracion:\n",
            "({'el': False, 'cambiar': False, 'alegría': False, 'lo': True, 'podría': False, 'pueden': False, 'aceptarte': False, 'un': False, 'esperanza': False, 'paso': False, 'mi': False, 'manera': False, 'demasiado': False, 'minutos': False, 'todo': True, 'será': True, 'fallar': False, 'primer': False, 'aprender': False, 'de': False, 'puerta': False, 'hacer': False, 'frutos': False, 'olvidaste': False, 'difícil': False, 'arriesgarse': False, 'tú': True, 'gozo': False, 'fuerza': False, 'ya': False, 'alcanzar': False, 'equivocarme': False, 'con': False, 'para': False, 'aquí': False, 'pero': False, 'pierdas': False, 'espero': False, 'eso': False, 'sin': False, 'por': False, 'había': False, 'que': True, 'paz': False, 'a': False, 'en': False, 'creer': False, 'ser': True, 'permitas': True, 'interior': False, 'cerrar': False, 'puedo': False, 'cómo': False, 'sucedió': False, 'positiva': True, 'salir': False, 'es': False, 'amor': False, 'vida': True, 'otra': False, 'sólo': False, 'tiene': False, 'puede': False, 'recoger': False, 'nunca': False, 'sembrado': False, 'muy': False, 'persona': False, 'cosas': False, 'porque': False, 'entrar': False, 'formas': False, 'esperar': False, 'entiendo': False, 'más': False, 'viniste': False, 'los': False, 'pronóstico': False, 'no': False, 'la': True, 'le': True, 'quedan': False}, 'pos')\n",
            "_______________________________________________\n",
            "Oracion:\n",
            "({'el': False, 'cambiar': False, 'alegría': False, 'lo': True, 'podría': False, 'pueden': False, 'aceptarte': False, 'un': True, 'esperanza': False, 'paso': False, 'mi': False, 'manera': False, 'demasiado': False, 'minutos': False, 'todo': False, 'será': True, 'fallar': False, 'primer': False, 'aprender': False, 'de': True, 'puerta': False, 'hacer': False, 'frutos': True, 'olvidaste': False, 'difícil': True, 'arriesgarse': False, 'tú': False, 'gozo': True, 'fuerza': False, 'ya': False, 'alcanzar': False, 'equivocarme': False, 'con': False, 'para': False, 'aquí': False, 'pero': True, 'pierdas': False, 'espero': False, 'eso': False, 'sin': False, 'por': False, 'había': False, 'que': False, 'paz': False, 'a': False, 'en': False, 'creer': False, 'ser': True, 'permitas': False, 'interior': False, 'cerrar': False, 'puedo': False, 'cómo': False, 'sucedió': False, 'positiva': False, 'salir': False, 'es': False, 'amor': False, 'vida': False, 'otra': False, 'sólo': False, 'tiene': False, 'puede': True, 'recoger': True, 'nunca': False, 'sembrado': True, 'muy': True, 'persona': False, 'cosas': False, 'porque': False, 'entrar': False, 'formas': False, 'esperar': True, 'entiendo': False, 'más': False, 'viniste': False, 'los': True, 'pronóstico': False, 'no': False, 'la': False, 'le': False, 'quedan': False}, 'pos')\n",
            "_______________________________________________\n",
            "Oracion:\n",
            "({'el': True, 'cambiar': False, 'alegría': False, 'lo': False, 'podría': False, 'pueden': False, 'aceptarte': True, 'un': False, 'esperanza': False, 'paso': True, 'mi': False, 'manera': False, 'demasiado': False, 'minutos': False, 'todo': False, 'será': False, 'fallar': False, 'primer': True, 'aprender': True, 'de': False, 'puerta': False, 'hacer': False, 'frutos': False, 'olvidaste': False, 'difícil': False, 'arriesgarse': False, 'tú': False, 'gozo': False, 'fuerza': False, 'ya': False, 'alcanzar': True, 'equivocarme': False, 'con': False, 'para': True, 'aquí': False, 'pero': False, 'pierdas': False, 'espero': False, 'eso': False, 'sin': False, 'por': False, 'había': False, 'que': False, 'paz': True, 'a': True, 'en': False, 'creer': False, 'ser': False, 'permitas': False, 'interior': True, 'cerrar': False, 'puedo': False, 'cómo': False, 'sucedió': False, 'positiva': False, 'salir': False, 'es': True, 'amor': False, 'vida': False, 'otra': False, 'sólo': False, 'tiene': False, 'puede': False, 'recoger': False, 'nunca': False, 'sembrado': False, 'muy': False, 'persona': False, 'cosas': False, 'porque': False, 'entrar': False, 'formas': False, 'esperar': False, 'entiendo': False, 'más': False, 'viniste': False, 'los': False, 'pronóstico': False, 'no': False, 'la': True, 'le': False, 'quedan': False}, 'pos')\n",
            "_______________________________________________\n",
            "Oracion:\n",
            "({'el': True, 'cambiar': True, 'alegría': False, 'lo': False, 'podría': False, 'pueden': False, 'aceptarte': False, 'un': False, 'esperanza': False, 'paso': False, 'mi': False, 'manera': False, 'demasiado': False, 'minutos': True, 'todo': False, 'será': False, 'fallar': False, 'primer': False, 'aprender': False, 'de': True, 'puerta': False, 'hacer': False, 'frutos': False, 'olvidaste': False, 'difícil': False, 'arriesgarse': False, 'tú': False, 'gozo': False, 'fuerza': True, 'ya': False, 'alcanzar': False, 'equivocarme': False, 'con': False, 'para': False, 'aquí': False, 'pero': False, 'pierdas': False, 'espero': False, 'eso': False, 'sin': False, 'por': False, 'había': False, 'que': False, 'paz': False, 'a': False, 'en': True, 'creer': False, 'ser': False, 'permitas': False, 'interior': False, 'cerrar': False, 'puedo': False, 'cómo': False, 'sucedió': False, 'positiva': False, 'salir': False, 'es': False, 'amor': True, 'vida': True, 'otra': True, 'sólo': True, 'tiene': True, 'puede': False, 'recoger': False, 'nunca': False, 'sembrado': False, 'muy': False, 'persona': True, 'cosas': True, 'porque': False, 'entrar': False, 'formas': False, 'esperar': False, 'entiendo': False, 'más': False, 'viniste': False, 'los': False, 'pronóstico': False, 'no': False, 'la': True, 'le': False, 'quedan': False}, 'pos')\n",
            "_______________________________________________\n",
            "Oracion:\n",
            "({'el': False, 'cambiar': False, 'alegría': True, 'lo': False, 'podría': True, 'pueden': False, 'aceptarte': False, 'un': False, 'esperanza': True, 'paso': False, 'mi': False, 'manera': False, 'demasiado': False, 'minutos': False, 'todo': False, 'será': False, 'fallar': False, 'primer': False, 'aprender': False, 'de': False, 'puerta': True, 'hacer': False, 'frutos': False, 'olvidaste': True, 'difícil': False, 'arriesgarse': False, 'tú': False, 'gozo': False, 'fuerza': False, 'ya': False, 'alcanzar': False, 'equivocarme': False, 'con': False, 'para': False, 'aquí': False, 'pero': False, 'pierdas': True, 'espero': False, 'eso': False, 'sin': False, 'por': True, 'había': False, 'que': True, 'paz': False, 'a': False, 'en': False, 'creer': False, 'ser': False, 'permitas': False, 'interior': False, 'cerrar': True, 'puedo': False, 'cómo': False, 'sucedió': False, 'positiva': False, 'salir': False, 'es': False, 'amor': False, 'vida': False, 'otra': False, 'sólo': False, 'tiene': False, 'puede': False, 'recoger': False, 'nunca': True, 'sembrado': False, 'muy': False, 'persona': False, 'cosas': False, 'porque': True, 'entrar': True, 'formas': False, 'esperar': False, 'entiendo': False, 'más': False, 'viniste': False, 'los': False, 'pronóstico': False, 'no': False, 'la': True, 'le': False, 'quedan': False}, 'pos')\n",
            "_______________________________________________\n",
            "Oracion:\n",
            "({'el': False, 'cambiar': False, 'alegría': False, 'lo': False, 'podría': False, 'pueden': False, 'aceptarte': False, 'un': False, 'esperanza': False, 'paso': False, 'mi': False, 'manera': False, 'demasiado': False, 'minutos': False, 'todo': False, 'será': False, 'fallar': False, 'primer': False, 'aprender': False, 'de': False, 'puerta': False, 'hacer': False, 'frutos': False, 'olvidaste': False, 'difícil': False, 'arriesgarse': False, 'tú': False, 'gozo': False, 'fuerza': False, 'ya': False, 'alcanzar': False, 'equivocarme': False, 'con': False, 'para': False, 'aquí': True, 'pero': False, 'pierdas': False, 'espero': False, 'eso': False, 'sin': False, 'por': True, 'había': False, 'que': False, 'paz': False, 'a': False, 'en': False, 'creer': False, 'ser': False, 'permitas': False, 'interior': False, 'cerrar': False, 'puedo': False, 'cómo': False, 'sucedió': False, 'positiva': False, 'salir': False, 'es': False, 'amor': False, 'vida': False, 'otra': False, 'sólo': False, 'tiene': False, 'puede': False, 'recoger': False, 'nunca': True, 'sembrado': False, 'muy': False, 'persona': False, 'cosas': False, 'porque': False, 'entrar': False, 'formas': False, 'esperar': False, 'entiendo': False, 'más': True, 'viniste': True, 'los': False, 'pronóstico': False, 'no': True, 'la': False, 'le': False, 'quedan': False}, 'neg')\n",
            "_______________________________________________\n",
            "Oracion:\n",
            "({'el': False, 'cambiar': False, 'alegría': False, 'lo': False, 'podría': False, 'pueden': True, 'aceptarte': False, 'un': False, 'esperanza': False, 'paso': False, 'mi': False, 'manera': False, 'demasiado': False, 'minutos': False, 'todo': False, 'será': False, 'fallar': False, 'primer': False, 'aprender': False, 'de': False, 'puerta': False, 'hacer': True, 'frutos': False, 'olvidaste': False, 'difícil': False, 'arriesgarse': False, 'tú': False, 'gozo': False, 'fuerza': False, 'ya': False, 'alcanzar': False, 'equivocarme': False, 'con': False, 'para': False, 'aquí': False, 'pero': False, 'pierdas': False, 'espero': False, 'eso': True, 'sin': False, 'por': False, 'había': False, 'que': False, 'paz': False, 'a': False, 'en': False, 'creer': False, 'ser': False, 'permitas': False, 'interior': False, 'cerrar': False, 'puedo': False, 'cómo': True, 'sucedió': False, 'positiva': False, 'salir': False, 'es': False, 'amor': False, 'vida': False, 'otra': False, 'sólo': False, 'tiene': False, 'puede': False, 'recoger': False, 'nunca': False, 'sembrado': False, 'muy': False, 'persona': False, 'cosas': False, 'porque': False, 'entrar': False, 'formas': False, 'esperar': False, 'entiendo': True, 'más': False, 'viniste': False, 'los': False, 'pronóstico': False, 'no': True, 'la': False, 'le': False, 'quedan': False}, 'neg')\n",
            "_______________________________________________\n",
            "Oracion:\n",
            "({'el': False, 'cambiar': False, 'alegría': False, 'lo': False, 'podría': False, 'pueden': False, 'aceptarte': False, 'un': False, 'esperanza': False, 'paso': False, 'mi': False, 'manera': False, 'demasiado': True, 'minutos': False, 'todo': False, 'será': False, 'fallar': False, 'primer': False, 'aprender': False, 'de': True, 'puerta': False, 'hacer': False, 'frutos': False, 'olvidaste': False, 'difícil': False, 'arriesgarse': True, 'tú': False, 'gozo': False, 'fuerza': False, 'ya': True, 'alcanzar': False, 'equivocarme': False, 'con': False, 'para': False, 'aquí': True, 'pero': False, 'pierdas': False, 'espero': False, 'eso': False, 'sin': True, 'por': False, 'había': False, 'que': False, 'paz': False, 'a': False, 'en': False, 'creer': False, 'ser': False, 'permitas': False, 'interior': False, 'cerrar': False, 'puedo': False, 'cómo': False, 'sucedió': False, 'positiva': False, 'salir': True, 'es': False, 'amor': False, 'vida': False, 'otra': False, 'sólo': False, 'tiene': False, 'puede': False, 'recoger': False, 'nunca': False, 'sembrado': False, 'muy': False, 'persona': False, 'cosas': False, 'porque': False, 'entrar': False, 'formas': True, 'esperar': False, 'entiendo': False, 'más': False, 'viniste': False, 'los': False, 'pronóstico': False, 'no': True, 'la': False, 'le': False, 'quedan': True}, 'neg')\n",
            "_______________________________________________\n",
            "Oracion:\n",
            "({'el': False, 'cambiar': False, 'alegría': False, 'lo': False, 'podría': False, 'pueden': False, 'aceptarte': False, 'un': False, 'esperanza': False, 'paso': False, 'mi': True, 'manera': False, 'demasiado': False, 'minutos': False, 'todo': False, 'será': False, 'fallar': False, 'primer': False, 'aprender': False, 'de': False, 'puerta': False, 'hacer': False, 'frutos': False, 'olvidaste': False, 'difícil': False, 'arriesgarse': False, 'tú': False, 'gozo': False, 'fuerza': False, 'ya': False, 'alcanzar': False, 'equivocarme': True, 'con': True, 'para': False, 'aquí': False, 'pero': False, 'pierdas': False, 'espero': True, 'eso': False, 'sin': False, 'por': False, 'había': False, 'que': False, 'paz': False, 'a': False, 'en': False, 'creer': False, 'ser': False, 'permitas': False, 'interior': False, 'cerrar': False, 'puedo': False, 'cómo': False, 'sucedió': False, 'positiva': False, 'salir': False, 'es': False, 'amor': False, 'vida': False, 'otra': False, 'sólo': False, 'tiene': False, 'puede': False, 'recoger': False, 'nunca': False, 'sembrado': False, 'muy': False, 'persona': False, 'cosas': False, 'porque': False, 'entrar': False, 'formas': False, 'esperar': False, 'entiendo': False, 'más': False, 'viniste': False, 'los': False, 'pronóstico': True, 'no': True, 'la': False, 'le': False, 'quedan': False}, 'neg')\n",
            "_______________________________________________\n",
            "Oracion:\n",
            "({'el': False, 'cambiar': False, 'alegría': False, 'lo': True, 'podría': False, 'pueden': False, 'aceptarte': False, 'un': False, 'esperanza': False, 'paso': False, 'mi': False, 'manera': True, 'demasiado': False, 'minutos': False, 'todo': False, 'será': False, 'fallar': True, 'primer': False, 'aprender': False, 'de': True, 'puerta': False, 'hacer': False, 'frutos': False, 'olvidaste': False, 'difícil': False, 'arriesgarse': False, 'tú': False, 'gozo': False, 'fuerza': False, 'ya': False, 'alcanzar': False, 'equivocarme': False, 'con': False, 'para': False, 'aquí': False, 'pero': False, 'pierdas': False, 'espero': False, 'eso': False, 'sin': False, 'por': False, 'había': True, 'que': True, 'paz': False, 'a': False, 'en': False, 'creer': True, 'ser': False, 'permitas': False, 'interior': False, 'cerrar': False, 'puedo': True, 'cómo': False, 'sucedió': True, 'positiva': False, 'salir': False, 'es': False, 'amor': False, 'vida': False, 'otra': False, 'sólo': False, 'tiene': False, 'puede': False, 'recoger': False, 'nunca': False, 'sembrado': False, 'muy': False, 'persona': False, 'cosas': False, 'porque': False, 'entrar': False, 'formas': False, 'esperar': False, 'entiendo': False, 'más': False, 'viniste': False, 'los': False, 'pronóstico': False, 'no': True, 'la': False, 'le': False, 'quedan': False}, 'neg')\n",
            "_______________________________________________\n"
          ],
          "name": "stdout"
        }
      ]
    },
    {
      "cell_type": "code",
      "metadata": {
        "id": "yGx_kSv8b1jg"
      },
      "source": [
        "NaiveBClassifier= nbc.train(array_palabras)\n"
      ],
      "execution_count": 50,
      "outputs": []
    },
    {
      "cell_type": "code",
      "metadata": {
        "colab": {
          "base_uri": "https://localhost:8080/"
        },
        "id": "6o9TB_KncAri",
        "outputId": "cd0562dc-5076-413a-dbb1-95c61d3ffbcc"
      },
      "source": [
        "NaiveBClassifier.labels()\n"
      ],
      "execution_count": 51,
      "outputs": [
        {
          "output_type": "execute_result",
          "data": {
            "text/plain": [
              "['pos', 'neg']"
            ]
          },
          "metadata": {
            "tags": []
          },
          "execution_count": 51
        }
      ]
    },
    {
      "cell_type": "code",
      "metadata": {
        "id": "r5vMdvA5cKbx"
      },
      "source": [
        "array_positivo = {i:(i in word_tokenize(oracion_prueba_positiva.lower())) for i in vocabulario}"
      ],
      "execution_count": 47,
      "outputs": []
    },
    {
      "cell_type": "code",
      "metadata": {
        "id": "ibAAcnQ1cfug"
      },
      "source": [
        "array_negativo = {i:(i in word_tokenize(oracion_prueba_negativa.lower())) for i in vocabulario}"
      ],
      "execution_count": 48,
      "outputs": []
    },
    {
      "cell_type": "code",
      "metadata": {
        "colab": {
          "base_uri": "https://localhost:8080/",
          "height": 35
        },
        "id": "Fv_KCkgQdFUe",
        "outputId": "7f7ac4f4-a372-4917-80ea-9112acf32e27"
      },
      "source": [
        "NaiveBClassifier.classify(array_positivo)"
      ],
      "execution_count": 52,
      "outputs": [
        {
          "output_type": "execute_result",
          "data": {
            "application/vnd.google.colaboratory.intrinsic+json": {
              "type": "string"
            },
            "text/plain": [
              "'pos'"
            ]
          },
          "metadata": {
            "tags": []
          },
          "execution_count": 52
        }
      ]
    },
    {
      "cell_type": "code",
      "metadata": {
        "colab": {
          "base_uri": "https://localhost:8080/",
          "height": 35
        },
        "id": "EvuesgOkdNeA",
        "outputId": "cc5fa3ff-55b3-41fe-87df-730232eaa6eb"
      },
      "source": [
        "NaiveBClassifier.classify(array_negativo)"
      ],
      "execution_count": 53,
      "outputs": [
        {
          "output_type": "execute_result",
          "data": {
            "application/vnd.google.colaboratory.intrinsic+json": {
              "type": "string"
            },
            "text/plain": [
              "'neg'"
            ]
          },
          "metadata": {
            "tags": []
          },
          "execution_count": 53
        }
      ]
    },
    {
      "cell_type": "code",
      "metadata": {
        "id": "gjto0U1gdW8a"
      },
      "source": [
        ""
      ],
      "execution_count": null,
      "outputs": []
    }
  ]
}