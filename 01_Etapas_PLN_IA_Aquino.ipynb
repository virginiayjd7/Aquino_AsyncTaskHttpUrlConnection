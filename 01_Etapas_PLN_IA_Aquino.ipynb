{
  "nbformat": 4,
  "nbformat_minor": 0,
  "metadata": {
    "colab": {
      "name": "01 Etapas PLN_IA_Aquino.ipynb",
      "provenance": [],
      "collapsed_sections": [],
      "authorship_tag": "ABX9TyPgb+qx0V8CAyzo5EmIL7kg",
      "include_colab_link": true
    },
    "kernelspec": {
      "name": "python3",
      "display_name": "Python 3"
    },
    "language_info": {
      "name": "python"
    }
  },
  "cells": [
    {
      "cell_type": "markdown",
      "metadata": {
        "id": "view-in-github",
        "colab_type": "text"
      },
      "source": [
        "<a href=\"https://colab.research.google.com/github/virginiayjd7/Lab1_IA/blob/master/01_Etapas_PLN_IA_Aquino.ipynb\" target=\"_parent\"><img src=\"https://colab.research.google.com/assets/colab-badge.svg\" alt=\"Open In Colab\"/></a>"
      ]
    },
    {
      "cell_type": "code",
      "metadata": {
        "colab": {
          "base_uri": "https://localhost:8080/"
        },
        "id": "L0Kbo9J1sFHV",
        "outputId": "174bc23a-99ea-4c1e-c046-146391ad6422"
      },
      "source": [
        "try:\n",
        "  import nltk \n",
        "  print(\"libreria 'nltk' se cargo correctamente\")\n",
        "except ModuleNotFoundError:\n",
        "    print(\"libreria 'nltk' no esta instalada\") \n",
        "    get_ipython().system('pip install nltk')\n",
        "    import nltk"
      ],
      "execution_count": 1,
      "outputs": [
        {
          "output_type": "stream",
          "text": [
            "libreria 'nltk' se cargo correctamente\n"
          ],
          "name": "stdout"
        }
      ]
    },
    {
      "cell_type": "code",
      "metadata": {
        "colab": {
          "base_uri": "https://localhost:8080/"
        },
        "id": "Iu_dqv0ZyFad",
        "outputId": "2b1f5fb3-3e8f-4e7f-96fd-bd2caa73b239"
      },
      "source": [
        "try:\n",
        "  import spacy\n",
        "  print(\"libreria 'spacy' se cargo correctamente\")\n",
        "except ModuleNotFoundError:\n",
        "    print(\"libreria 'spacy' no esta instalada\") \n",
        "    get_ipython().system('pip install spacy')\n",
        "    import spacy"
      ],
      "execution_count": 2,
      "outputs": [
        {
          "output_type": "stream",
          "text": [
            "libreria 'spacy' se cargo correctamente\n"
          ],
          "name": "stdout"
        }
      ]
    },
    {
      "cell_type": "code",
      "metadata": {
        "colab": {
          "base_uri": "https://localhost:8080/"
        },
        "id": "AeSksm1oyY4a",
        "outputId": "e761f79c-2d86-44d1-bf09-3e5d72b404bd"
      },
      "source": [
        "nltk.download('punkt')"
      ],
      "execution_count": 9,
      "outputs": [
        {
          "output_type": "stream",
          "text": [
            "[nltk_data] Downloading package punkt to /root/nltk_data...\n",
            "[nltk_data]   Package punkt is already up-to-date!\n"
          ],
          "name": "stdout"
        },
        {
          "output_type": "execute_result",
          "data": {
            "text/plain": [
              "True"
            ]
          },
          "metadata": {
            "tags": []
          },
          "execution_count": 9
        }
      ]
    },
    {
      "cell_type": "code",
      "metadata": {
        "id": "8UocWd8Ayh9y"
      },
      "source": [
        "oracion =\"\"\"hola\"\"\""
      ],
      "execution_count": 10,
      "outputs": []
    },
    {
      "cell_type": "code",
      "metadata": {
        "id": "_GsCmEFZysEb"
      },
      "source": [
        "sentencias=nltk.sent_tokenize(oracion)"
      ],
      "execution_count": 11,
      "outputs": []
    },
    {
      "cell_type": "code",
      "metadata": {
        "colab": {
          "base_uri": "https://localhost:8080/"
        },
        "id": "4Ze-ZFZsyzkJ",
        "outputId": "d85d676d-4774-4507-9cb8-8c52d93c6a7f"
      },
      "source": [
        "for sen in sentencias:\n",
        "  print(sen)"
      ],
      "execution_count": 12,
      "outputs": [
        {
          "output_type": "stream",
          "text": [
            "hola\n"
          ],
          "name": "stdout"
        }
      ]
    },
    {
      "cell_type": "code",
      "metadata": {
        "id": "tG4Vv7xwy9SR"
      },
      "source": [
        "token_espanol =nltk.data.load('tokenizers/punkt/spanish.pickle')"
      ],
      "execution_count": null,
      "outputs": []
    },
    {
      "cell_type": "code",
      "metadata": {
        "id": "MN-FLk1jztgs"
      },
      "source": [
        "oracion =\"\"\"hola en español\"\"\""
      ],
      "execution_count": null,
      "outputs": []
    },
    {
      "cell_type": "code",
      "metadata": {
        "id": "EAgW725Sz3yq"
      },
      "source": [
        "sentencias=nltk.sent_tokenize(oracion)"
      ],
      "execution_count": null,
      "outputs": []
    },
    {
      "cell_type": "code",
      "metadata": {
        "colab": {
          "base_uri": "https://localhost:8080/"
        },
        "id": "pSq31z890AGS",
        "outputId": "f2cbf841-27be-409a-ae37-4b112e5adefd"
      },
      "source": [
        "for sen in sentencias:\n",
        "  print(sen)"
      ],
      "execution_count": null,
      "outputs": [
        {
          "output_type": "stream",
          "text": [
            "hola en español\n"
          ],
          "name": "stdout"
        }
      ]
    },
    {
      "cell_type": "code",
      "metadata": {
        "id": "FokBaMzy0CT6"
      },
      "source": [
        "token_palabras =nltk.word_tokenize(oracion)"
      ],
      "execution_count": 88,
      "outputs": []
    },
    {
      "cell_type": "code",
      "metadata": {
        "colab": {
          "base_uri": "https://localhost:8080/"
        },
        "id": "hosnaljy0QMb",
        "outputId": "c5979910-e5aa-4034-b94d-a28d121e5d62"
      },
      "source": [
        "for sen in token_palabras:\n",
        "  print(sen)"
      ],
      "execution_count": null,
      "outputs": [
        {
          "output_type": "stream",
          "text": [
            "hola\n",
            "en\n",
            "español\n"
          ],
          "name": "stdout"
        }
      ]
    },
    {
      "cell_type": "code",
      "metadata": {
        "id": "o2vLquCG0Xwr"
      },
      "source": [
        "tokens_regexp=nltk.tokenize.regexp.regexp_tokenize(oracion,\"[\\w]+\")"
      ],
      "execution_count": null,
      "outputs": []
    },
    {
      "cell_type": "code",
      "metadata": {
        "colab": {
          "base_uri": "https://localhost:8080/"
        },
        "id": "GU_gFv0K0xRz",
        "outputId": "2fd97bc0-bb45-4280-ee42-4cb5054481f3"
      },
      "source": [
        "for sen in tokens_regexp:\n",
        "  print(sen)"
      ],
      "execution_count": null,
      "outputs": [
        {
          "output_type": "stream",
          "text": [
            "hola\n",
            "en\n",
            "español\n"
          ],
          "name": "stdout"
        }
      ]
    },
    {
      "cell_type": "markdown",
      "metadata": {
        "id": "6QJbQ8l2Msts"
      },
      "source": [
        "**Stop** **words**"
      ]
    },
    {
      "cell_type": "code",
      "metadata": {
        "colab": {
          "base_uri": "https://localhost:8080/"
        },
        "id": "1kf0Xfk-M0E8",
        "outputId": "261373f1-d08c-4463-e8fb-601280951539"
      },
      "source": [
        "nltk.download('stopwords')"
      ],
      "execution_count": 4,
      "outputs": [
        {
          "output_type": "stream",
          "text": [
            "[nltk_data] Downloading package stopwords to /root/nltk_data...\n",
            "[nltk_data]   Unzipping corpora/stopwords.zip.\n"
          ],
          "name": "stdout"
        },
        {
          "output_type": "execute_result",
          "data": {
            "text/plain": [
              "True"
            ]
          },
          "metadata": {
            "tags": []
          },
          "execution_count": 4
        }
      ]
    },
    {
      "cell_type": "code",
      "metadata": {
        "id": "p74xyWwtNUcn"
      },
      "source": [
        "sw_espanol=set(nltk.corpus.stopwords.words('spanish'))"
      ],
      "execution_count": 6,
      "outputs": []
    },
    {
      "cell_type": "code",
      "metadata": {
        "colab": {
          "base_uri": "https://localhost:8080/"
        },
        "id": "pRChqLOfNh2m",
        "outputId": "040844cb-ebf8-4dfd-8b2b-f36b86295b27"
      },
      "source": [
        "sw_espanol"
      ],
      "execution_count": 7,
      "outputs": [
        {
          "output_type": "execute_result",
          "data": {
            "text/plain": [
              "{'a',\n",
              " 'al',\n",
              " 'algo',\n",
              " 'algunas',\n",
              " 'algunos',\n",
              " 'ante',\n",
              " 'antes',\n",
              " 'como',\n",
              " 'con',\n",
              " 'contra',\n",
              " 'cual',\n",
              " 'cuando',\n",
              " 'de',\n",
              " 'del',\n",
              " 'desde',\n",
              " 'donde',\n",
              " 'durante',\n",
              " 'e',\n",
              " 'el',\n",
              " 'ella',\n",
              " 'ellas',\n",
              " 'ellos',\n",
              " 'en',\n",
              " 'entre',\n",
              " 'era',\n",
              " 'erais',\n",
              " 'eran',\n",
              " 'eras',\n",
              " 'eres',\n",
              " 'es',\n",
              " 'esa',\n",
              " 'esas',\n",
              " 'ese',\n",
              " 'eso',\n",
              " 'esos',\n",
              " 'esta',\n",
              " 'estaba',\n",
              " 'estabais',\n",
              " 'estaban',\n",
              " 'estabas',\n",
              " 'estad',\n",
              " 'estada',\n",
              " 'estadas',\n",
              " 'estado',\n",
              " 'estados',\n",
              " 'estamos',\n",
              " 'estando',\n",
              " 'estar',\n",
              " 'estaremos',\n",
              " 'estará',\n",
              " 'estarán',\n",
              " 'estarás',\n",
              " 'estaré',\n",
              " 'estaréis',\n",
              " 'estaría',\n",
              " 'estaríais',\n",
              " 'estaríamos',\n",
              " 'estarían',\n",
              " 'estarías',\n",
              " 'estas',\n",
              " 'este',\n",
              " 'estemos',\n",
              " 'esto',\n",
              " 'estos',\n",
              " 'estoy',\n",
              " 'estuve',\n",
              " 'estuviera',\n",
              " 'estuvierais',\n",
              " 'estuvieran',\n",
              " 'estuvieras',\n",
              " 'estuvieron',\n",
              " 'estuviese',\n",
              " 'estuvieseis',\n",
              " 'estuviesen',\n",
              " 'estuvieses',\n",
              " 'estuvimos',\n",
              " 'estuviste',\n",
              " 'estuvisteis',\n",
              " 'estuviéramos',\n",
              " 'estuviésemos',\n",
              " 'estuvo',\n",
              " 'está',\n",
              " 'estábamos',\n",
              " 'estáis',\n",
              " 'están',\n",
              " 'estás',\n",
              " 'esté',\n",
              " 'estéis',\n",
              " 'estén',\n",
              " 'estés',\n",
              " 'fue',\n",
              " 'fuera',\n",
              " 'fuerais',\n",
              " 'fueran',\n",
              " 'fueras',\n",
              " 'fueron',\n",
              " 'fuese',\n",
              " 'fueseis',\n",
              " 'fuesen',\n",
              " 'fueses',\n",
              " 'fui',\n",
              " 'fuimos',\n",
              " 'fuiste',\n",
              " 'fuisteis',\n",
              " 'fuéramos',\n",
              " 'fuésemos',\n",
              " 'ha',\n",
              " 'habida',\n",
              " 'habidas',\n",
              " 'habido',\n",
              " 'habidos',\n",
              " 'habiendo',\n",
              " 'habremos',\n",
              " 'habrá',\n",
              " 'habrán',\n",
              " 'habrás',\n",
              " 'habré',\n",
              " 'habréis',\n",
              " 'habría',\n",
              " 'habríais',\n",
              " 'habríamos',\n",
              " 'habrían',\n",
              " 'habrías',\n",
              " 'habéis',\n",
              " 'había',\n",
              " 'habíais',\n",
              " 'habíamos',\n",
              " 'habían',\n",
              " 'habías',\n",
              " 'han',\n",
              " 'has',\n",
              " 'hasta',\n",
              " 'hay',\n",
              " 'haya',\n",
              " 'hayamos',\n",
              " 'hayan',\n",
              " 'hayas',\n",
              " 'hayáis',\n",
              " 'he',\n",
              " 'hemos',\n",
              " 'hube',\n",
              " 'hubiera',\n",
              " 'hubierais',\n",
              " 'hubieran',\n",
              " 'hubieras',\n",
              " 'hubieron',\n",
              " 'hubiese',\n",
              " 'hubieseis',\n",
              " 'hubiesen',\n",
              " 'hubieses',\n",
              " 'hubimos',\n",
              " 'hubiste',\n",
              " 'hubisteis',\n",
              " 'hubiéramos',\n",
              " 'hubiésemos',\n",
              " 'hubo',\n",
              " 'la',\n",
              " 'las',\n",
              " 'le',\n",
              " 'les',\n",
              " 'lo',\n",
              " 'los',\n",
              " 'me',\n",
              " 'mi',\n",
              " 'mis',\n",
              " 'mucho',\n",
              " 'muchos',\n",
              " 'muy',\n",
              " 'más',\n",
              " 'mí',\n",
              " 'mía',\n",
              " 'mías',\n",
              " 'mío',\n",
              " 'míos',\n",
              " 'nada',\n",
              " 'ni',\n",
              " 'no',\n",
              " 'nos',\n",
              " 'nosotras',\n",
              " 'nosotros',\n",
              " 'nuestra',\n",
              " 'nuestras',\n",
              " 'nuestro',\n",
              " 'nuestros',\n",
              " 'o',\n",
              " 'os',\n",
              " 'otra',\n",
              " 'otras',\n",
              " 'otro',\n",
              " 'otros',\n",
              " 'para',\n",
              " 'pero',\n",
              " 'poco',\n",
              " 'por',\n",
              " 'porque',\n",
              " 'que',\n",
              " 'quien',\n",
              " 'quienes',\n",
              " 'qué',\n",
              " 'se',\n",
              " 'sea',\n",
              " 'seamos',\n",
              " 'sean',\n",
              " 'seas',\n",
              " 'sentid',\n",
              " 'sentida',\n",
              " 'sentidas',\n",
              " 'sentido',\n",
              " 'sentidos',\n",
              " 'seremos',\n",
              " 'será',\n",
              " 'serán',\n",
              " 'serás',\n",
              " 'seré',\n",
              " 'seréis',\n",
              " 'sería',\n",
              " 'seríais',\n",
              " 'seríamos',\n",
              " 'serían',\n",
              " 'serías',\n",
              " 'seáis',\n",
              " 'siente',\n",
              " 'sin',\n",
              " 'sintiendo',\n",
              " 'sobre',\n",
              " 'sois',\n",
              " 'somos',\n",
              " 'son',\n",
              " 'soy',\n",
              " 'su',\n",
              " 'sus',\n",
              " 'suya',\n",
              " 'suyas',\n",
              " 'suyo',\n",
              " 'suyos',\n",
              " 'sí',\n",
              " 'también',\n",
              " 'tanto',\n",
              " 'te',\n",
              " 'tendremos',\n",
              " 'tendrá',\n",
              " 'tendrán',\n",
              " 'tendrás',\n",
              " 'tendré',\n",
              " 'tendréis',\n",
              " 'tendría',\n",
              " 'tendríais',\n",
              " 'tendríamos',\n",
              " 'tendrían',\n",
              " 'tendrías',\n",
              " 'tened',\n",
              " 'tenemos',\n",
              " 'tenga',\n",
              " 'tengamos',\n",
              " 'tengan',\n",
              " 'tengas',\n",
              " 'tengo',\n",
              " 'tengáis',\n",
              " 'tenida',\n",
              " 'tenidas',\n",
              " 'tenido',\n",
              " 'tenidos',\n",
              " 'teniendo',\n",
              " 'tenéis',\n",
              " 'tenía',\n",
              " 'teníais',\n",
              " 'teníamos',\n",
              " 'tenían',\n",
              " 'tenías',\n",
              " 'ti',\n",
              " 'tiene',\n",
              " 'tienen',\n",
              " 'tienes',\n",
              " 'todo',\n",
              " 'todos',\n",
              " 'tu',\n",
              " 'tus',\n",
              " 'tuve',\n",
              " 'tuviera',\n",
              " 'tuvierais',\n",
              " 'tuvieran',\n",
              " 'tuvieras',\n",
              " 'tuvieron',\n",
              " 'tuviese',\n",
              " 'tuvieseis',\n",
              " 'tuviesen',\n",
              " 'tuvieses',\n",
              " 'tuvimos',\n",
              " 'tuviste',\n",
              " 'tuvisteis',\n",
              " 'tuviéramos',\n",
              " 'tuviésemos',\n",
              " 'tuvo',\n",
              " 'tuya',\n",
              " 'tuyas',\n",
              " 'tuyo',\n",
              " 'tuyos',\n",
              " 'tú',\n",
              " 'un',\n",
              " 'una',\n",
              " 'uno',\n",
              " 'unos',\n",
              " 'vosotras',\n",
              " 'vosotros',\n",
              " 'vuestra',\n",
              " 'vuestras',\n",
              " 'vuestro',\n",
              " 'vuestros',\n",
              " 'y',\n",
              " 'ya',\n",
              " 'yo',\n",
              " 'él',\n",
              " 'éramos'}"
            ]
          },
          "metadata": {
            "tags": []
          },
          "execution_count": 7
        }
      ]
    },
    {
      "cell_type": "code",
      "metadata": {
        "id": "vK9YFLfsN06k"
      },
      "source": [
        "sw_espanol.update(['.',',','?','!','(',')','[',']','{','}'])"
      ],
      "execution_count": 13,
      "outputs": []
    },
    {
      "cell_type": "code",
      "metadata": {
        "id": "D3FSIRyuO9i2"
      },
      "source": [
        "token_palabras=nltk.word_tokenize(oracion)"
      ],
      "execution_count": 89,
      "outputs": []
    },
    {
      "cell_type": "code",
      "metadata": {
        "colab": {
          "base_uri": "https://localhost:8080/"
        },
        "id": "3RqGQpdlPG8l",
        "outputId": "55a3291f-61b9-40f5-db96-14f4c686d6cb"
      },
      "source": [
        "token_palabras"
      ],
      "execution_count": 90,
      "outputs": [
        {
          "output_type": "execute_result",
          "data": {
            "text/plain": [
              "['hola']"
            ]
          },
          "metadata": {
            "tags": []
          },
          "execution_count": 90
        }
      ]
    },
    {
      "cell_type": "code",
      "metadata": {
        "id": "Pdq261ltPN6R"
      },
      "source": [
        "token_palabras=nltk.word_tokenize(oracion)"
      ],
      "execution_count": 93,
      "outputs": []
    },
    {
      "cell_type": "code",
      "metadata": {
        "colab": {
          "base_uri": "https://localhost:8080/"
        },
        "id": "bEJ8HDHaPe_3",
        "outputId": "6a4d9e08-500e-4bc1-ed31-891aada8814f"
      },
      "source": [
        "for palabra in token_palabras:\n",
        "  if palabra.lower()not in sw_espanol:\n",
        "    print(\"No es SW:\" + palabra)"
      ],
      "execution_count": 94,
      "outputs": [
        {
          "output_type": "stream",
          "text": [
            "No es SW:hola\n"
          ],
          "name": "stdout"
        }
      ]
    },
    {
      "cell_type": "markdown",
      "metadata": {
        "id": "WdiQ7bgyRQAd"
      },
      "source": [
        "**stemming**"
      ]
    },
    {
      "cell_type": "code",
      "metadata": {
        "id": "Iiq50Hp7RTBV"
      },
      "source": [
        "from nltk import  SnowballStemmer\n"
      ],
      "execution_count": 79,
      "outputs": []
    },
    {
      "cell_type": "code",
      "metadata": {
        "id": "MHGFDMKoRYL1"
      },
      "source": [
        "stemmer_espanol = SnowballStemmer(\"spanish\")"
      ],
      "execution_count": 78,
      "outputs": []
    },
    {
      "cell_type": "code",
      "metadata": {
        "id": "oml56OhrRo-d"
      },
      "source": [
        "token_palabras= nltk.word_tokenize(oracion)"
      ],
      "execution_count": 97,
      "outputs": []
    },
    {
      "cell_type": "code",
      "metadata": {
        "colab": {
          "base_uri": "https://localhost:8080/"
        },
        "id": "H74Awc6EV6HV",
        "outputId": "209477ad-6187-4c8f-f1ef-1ab35295f558"
      },
      "source": [
        "for palabra in token_palabras:\n",
        "  if palabra.lower()not in sw_espanol:\n",
        "    print(\"No es SW:\" + palabra)"
      ],
      "execution_count": 98,
      "outputs": [
        {
          "output_type": "stream",
          "text": [
            "No es SW:hola\n"
          ],
          "name": "stdout"
        }
      ]
    },
    {
      "cell_type": "markdown",
      "metadata": {
        "id": "rixI6iw4Rzpf"
      },
      "source": [
        "**Lematizacion**"
      ]
    },
    {
      "cell_type": "code",
      "metadata": {
        "colab": {
          "base_uri": "https://localhost:8080/"
        },
        "id": "kZ5jpQYJR2ZN",
        "outputId": "aede052d-dd4e-4a95-d3ff-3528965e3326"
      },
      "source": [
        "get_ipython().system('python -m spacy download es_core_news_sm')"
      ],
      "execution_count": 99,
      "outputs": [
        {
          "output_type": "stream",
          "text": [
            "Requirement already satisfied: es_core_news_sm==2.2.5 from https://github.com/explosion/spacy-models/releases/download/es_core_news_sm-2.2.5/es_core_news_sm-2.2.5.tar.gz#egg=es_core_news_sm==2.2.5 in /usr/local/lib/python3.7/dist-packages (2.2.5)\n",
            "Requirement already satisfied: spacy>=2.2.2 in /usr/local/lib/python3.7/dist-packages (from es_core_news_sm==2.2.5) (2.2.4)\n",
            "Requirement already satisfied: numpy>=1.15.0 in /usr/local/lib/python3.7/dist-packages (from spacy>=2.2.2->es_core_news_sm==2.2.5) (1.19.5)\n",
            "Requirement already satisfied: plac<1.2.0,>=0.9.6 in /usr/local/lib/python3.7/dist-packages (from spacy>=2.2.2->es_core_news_sm==2.2.5) (1.1.3)\n",
            "Requirement already satisfied: murmurhash<1.1.0,>=0.28.0 in /usr/local/lib/python3.7/dist-packages (from spacy>=2.2.2->es_core_news_sm==2.2.5) (1.0.5)\n",
            "Requirement already satisfied: preshed<3.1.0,>=3.0.2 in /usr/local/lib/python3.7/dist-packages (from spacy>=2.2.2->es_core_news_sm==2.2.5) (3.0.5)\n",
            "Requirement already satisfied: wasabi<1.1.0,>=0.4.0 in /usr/local/lib/python3.7/dist-packages (from spacy>=2.2.2->es_core_news_sm==2.2.5) (0.8.2)\n",
            "Requirement already satisfied: setuptools in /usr/local/lib/python3.7/dist-packages (from spacy>=2.2.2->es_core_news_sm==2.2.5) (57.0.0)\n",
            "Requirement already satisfied: catalogue<1.1.0,>=0.0.7 in /usr/local/lib/python3.7/dist-packages (from spacy>=2.2.2->es_core_news_sm==2.2.5) (1.0.0)\n",
            "Requirement already satisfied: blis<0.5.0,>=0.4.0 in /usr/local/lib/python3.7/dist-packages (from spacy>=2.2.2->es_core_news_sm==2.2.5) (0.4.1)\n",
            "Requirement already satisfied: cymem<2.1.0,>=2.0.2 in /usr/local/lib/python3.7/dist-packages (from spacy>=2.2.2->es_core_news_sm==2.2.5) (2.0.5)\n",
            "Requirement already satisfied: srsly<1.1.0,>=1.0.2 in /usr/local/lib/python3.7/dist-packages (from spacy>=2.2.2->es_core_news_sm==2.2.5) (1.0.5)\n",
            "Requirement already satisfied: thinc==7.4.0 in /usr/local/lib/python3.7/dist-packages (from spacy>=2.2.2->es_core_news_sm==2.2.5) (7.4.0)\n",
            "Requirement already satisfied: tqdm<5.0.0,>=4.38.0 in /usr/local/lib/python3.7/dist-packages (from spacy>=2.2.2->es_core_news_sm==2.2.5) (4.41.1)\n",
            "Requirement already satisfied: requests<3.0.0,>=2.13.0 in /usr/local/lib/python3.7/dist-packages (from spacy>=2.2.2->es_core_news_sm==2.2.5) (2.23.0)\n",
            "Requirement already satisfied: importlib-metadata>=0.20; python_version < \"3.8\" in /usr/local/lib/python3.7/dist-packages (from catalogue<1.1.0,>=0.0.7->spacy>=2.2.2->es_core_news_sm==2.2.5) (4.5.0)\n",
            "Requirement already satisfied: idna<3,>=2.5 in /usr/local/lib/python3.7/dist-packages (from requests<3.0.0,>=2.13.0->spacy>=2.2.2->es_core_news_sm==2.2.5) (2.10)\n",
            "Requirement already satisfied: certifi>=2017.4.17 in /usr/local/lib/python3.7/dist-packages (from requests<3.0.0,>=2.13.0->spacy>=2.2.2->es_core_news_sm==2.2.5) (2021.5.30)\n",
            "Requirement already satisfied: urllib3!=1.25.0,!=1.25.1,<1.26,>=1.21.1 in /usr/local/lib/python3.7/dist-packages (from requests<3.0.0,>=2.13.0->spacy>=2.2.2->es_core_news_sm==2.2.5) (1.24.3)\n",
            "Requirement already satisfied: chardet<4,>=3.0.2 in /usr/local/lib/python3.7/dist-packages (from requests<3.0.0,>=2.13.0->spacy>=2.2.2->es_core_news_sm==2.2.5) (3.0.4)\n",
            "Requirement already satisfied: typing-extensions>=3.6.4; python_version < \"3.8\" in /usr/local/lib/python3.7/dist-packages (from importlib-metadata>=0.20; python_version < \"3.8\"->catalogue<1.1.0,>=0.0.7->spacy>=2.2.2->es_core_news_sm==2.2.5) (3.7.4.3)\n",
            "Requirement already satisfied: zipp>=0.5 in /usr/local/lib/python3.7/dist-packages (from importlib-metadata>=0.20; python_version < \"3.8\"->catalogue<1.1.0,>=0.0.7->spacy>=2.2.2->es_core_news_sm==2.2.5) (3.4.1)\n",
            "\u001b[38;5;2m✔ Download and installation successful\u001b[0m\n",
            "You can now load the model via spacy.load('es_core_news_sm')\n"
          ],
          "name": "stdout"
        }
      ]
    },
    {
      "cell_type": "code",
      "metadata": {
        "id": "aPwXAbePSB1d"
      },
      "source": [
        "import es_core_news_sm\n",
        "nlp = es_core_news_sm.load()\n",
        "\n"
      ],
      "execution_count": 75,
      "outputs": []
    },
    {
      "cell_type": "code",
      "metadata": {
        "id": "VqZcj7GhSm-q"
      },
      "source": [
        "lema =nlp(oracion)"
      ],
      "execution_count": 83,
      "outputs": []
    },
    {
      "cell_type": "code",
      "metadata": {
        "colab": {
          "base_uri": "https://localhost:8080/"
        },
        "id": "2f5b6yHAS2ky",
        "outputId": "b1ad368a-bee3-4f1d-a945-8e7f0c323c1c"
      },
      "source": [
        "for palabra in lema:\n",
        "  print(palabra.lemma_.lower())"
      ],
      "execution_count": 87,
      "outputs": [
        {
          "output_type": "stream",
          "text": [
            "hola\n"
          ],
          "name": "stdout"
        }
      ]
    }
  ]
}