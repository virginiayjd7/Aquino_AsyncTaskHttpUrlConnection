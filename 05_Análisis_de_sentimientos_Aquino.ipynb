{
  "nbformat": 4,
  "nbformat_minor": 0,
  "metadata": {
    "colab": {
      "name": "05.Análisis de sentimientos Aquino.ipynb",
      "provenance": [],
      "authorship_tag": "ABX9TyN6i/AvEOAofJKf9izLeJfD",
      "include_colab_link": true
    },
    "kernelspec": {
      "name": "python3",
      "display_name": "Python 3"
    },
    "language_info": {
      "name": "python"
    }
  },
  "cells": [
    {
      "cell_type": "markdown",
      "metadata": {
        "id": "view-in-github",
        "colab_type": "text"
      },
      "source": [
        "<a href=\"https://colab.research.google.com/github/virginiayjd7/Lab1_IA/blob/master/05_An%C3%A1lisis_de_sentimientos_Aquino.ipynb\" target=\"_parent\"><img src=\"https://colab.research.google.com/assets/colab-badge.svg\" alt=\"Open In Colab\"/></a>"
      ]
    },
    {
      "cell_type": "code",
      "metadata": {
        "colab": {
          "base_uri": "https://localhost:8080/"
        },
        "id": "OiHCRkmmx2uh",
        "outputId": "457ec588-183a-49e6-ccd8-f33183da220e"
      },
      "source": [
        "try:\n",
        "    from vaderSentiment.vaderSentiment import SentimentIntensityAnalyzer\n",
        "    print(\"Libreria 'vaderSentiment' se cargo correctamente\")\n",
        "except ModuleNotFoundError:\n",
        "    print(\"Libreria 'vaderSentiment' no esta instalada\")\n",
        "    get_ipython().system('pip install vader-multi')"
      ],
      "execution_count": 10,
      "outputs": [
        {
          "output_type": "stream",
          "text": [
            "Libreria 'vaderSentiment' se cargo correctamente\n"
          ],
          "name": "stdout"
        }
      ]
    },
    {
      "cell_type": "code",
      "metadata": {
        "id": "s-5-Q1rRytad"
      },
      "source": [
        "anlyzer=SentimentIntensityAnalyzer()"
      ],
      "execution_count": 11,
      "outputs": []
    },
    {
      "cell_type": "code",
      "metadata": {
        "colab": {
          "base_uri": "https://localhost:8080/"
        },
        "id": "AUCJZJCszO2s",
        "outputId": "176a3eaa-389d-4858-a783-9680ebe1d076"
      },
      "source": [
        "anlyzer.polarity_scores(\"La vida será todo lo positiva que tú le permitas ser.\")"
      ],
      "execution_count": 15,
      "outputs": [
        {
          "output_type": "execute_result",
          "data": {
            "text/plain": [
              "{'compound': 0.6705, 'neg': 0.0, 'neu': 0.621, 'pos': 0.379}"
            ]
          },
          "metadata": {
            "tags": []
          },
          "execution_count": 15
        }
      ]
    },
    {
      "cell_type": "code",
      "metadata": {
        "colab": {
          "base_uri": "https://localhost:8080/"
        },
        "id": "nBSqgx0Ozsm7",
        "outputId": "8cb82e76-df0b-4ef7-9a13-36890b0f62f7"
      },
      "source": [
        "anlyzer.polarity_scores(\"ya no quedan formas de salir aqui sin arriesgarse demasiado. \")"
      ],
      "execution_count": 16,
      "outputs": [
        {
          "output_type": "execute_result",
          "data": {
            "text/plain": [
              "{'compound': -0.0613, 'neg': 0.155, 'neu': 0.706, 'pos': 0.139}"
            ]
          },
          "metadata": {
            "tags": []
          },
          "execution_count": 16
        }
      ]
    },
    {
      "cell_type": "markdown",
      "metadata": {
        "id": "dGM-ZP290ZOk"
      },
      "source": [
        "**sentiment-spanish**"
      ]
    },
    {
      "cell_type": "code",
      "metadata": {
        "colab": {
          "base_uri": "https://localhost:8080/"
        },
        "id": "0Hfn8zIh0Wbs",
        "outputId": "5e86516f-cd9c-4f7a-f966-d1e07c481d2e"
      },
      "source": [
        "try:\n",
        "    from sentiment_analysis_spanish import sentiment_analysis\n",
        "    print(\"Libreria 'vaderSentiment' se cargo correctamente\")\n",
        "except ModuleNotFoundError:\n",
        "    print(\"Libreria 'vaderSentiment' no esta instalada\")\n",
        "    get_ipython().system('pip install sentiment-analysis-spanish')\n",
        "    get_ipython().system('pip install keras tensorflow')"
      ],
      "execution_count": 20,
      "outputs": [
        {
          "output_type": "stream",
          "text": [
            "Libreria 'vaderSentiment' se cargo correctamente\n"
          ],
          "name": "stdout"
        }
      ]
    },
    {
      "cell_type": "markdown",
      "metadata": {
        "id": "OYo5-uOy1V4d"
      },
      "source": [
        ""
      ]
    }
  ]
}