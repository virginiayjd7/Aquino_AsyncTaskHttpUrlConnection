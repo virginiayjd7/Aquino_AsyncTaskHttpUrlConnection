{
  "nbformat": 4,
  "nbformat_minor": 0,
  "metadata": {
    "colab": {
      "name": "04 Otros calsificadores.ipynb",
      "provenance": [],
      "authorship_tag": "ABX9TyODngHRPthZzSshN2paUfg3",
      "include_colab_link": true
    },
    "kernelspec": {
      "name": "python3",
      "display_name": "Python 3"
    },
    "language_info": {
      "name": "python"
    }
  },
  "cells": [
    {
      "cell_type": "markdown",
      "metadata": {
        "id": "view-in-github",
        "colab_type": "text"
      },
      "source": [
        "<a href=\"https://colab.research.google.com/github/virginiayjd7/Lab1_IA/blob/master/04_Otros_calsificadores.ipynb\" target=\"_parent\"><img src=\"https://colab.research.google.com/assets/colab-badge.svg\" alt=\"Open In Colab\"/></a>"
      ]
    },
    {
      "cell_type": "code",
      "metadata": {
        "colab": {
          "base_uri": "https://localhost:8080/"
        },
        "id": "rJ2zkIfdf2iG",
        "outputId": "a91875e3-6158-47cb-da27-0e626d18e825"
      },
      "source": [
        "try:\n",
        "    from nltk import NaiveBayesClassifier as nbc\n",
        "    from nltk.tokenize import word_tokenize\n",
        "    from nltk.classify import MaxentClassifier\n",
        "    from nltk.classify.scikitlearn import SklearnClassifier\n",
        "    print(\"Libreria 'nltk' se cargo correctamente\")\n",
        "except ModuleNotFoundError:\n",
        "    print(\"Libreria 'nltk' no esta instalada\")\n",
        "    get_ipython().system('pip install nltk')\n",
        "    from nltk import NaiveBayerClassifier as nbc\n",
        "    from nltk.tokenize import word_tokenize"
      ],
      "execution_count": 3,
      "outputs": [
        {
          "output_type": "stream",
          "text": [
            "Libreria 'nltk' se cargo correctamente\n"
          ],
          "name": "stdout"
        }
      ]
    },
    {
      "cell_type": "code",
      "metadata": {
        "colab": {
          "base_uri": "https://localhost:8080/"
        },
        "id": "rKTAb8oYf1xH",
        "outputId": "3242c6a2-eb85-441a-f08e-26efefb33769"
      },
      "source": [
        "try:\n",
        "    from sklearn.naive_bayes import MultinomialNB\n",
        "    print(\"Libreria 'sklearn' se cargo correctamente\")\n",
        "except ModuleNotFoundError:\n",
        "    print(\"Libreria 'sklearn' no esta instalada\")\n",
        "    get_ipython().system('pip install sklearn')"
      ],
      "execution_count": 4,
      "outputs": [
        {
          "output_type": "stream",
          "text": [
            "Libreria 'sklearn' se cargo correctamente\n"
          ],
          "name": "stdout"
        }
      ]
    },
    {
      "cell_type": "code",
      "metadata": {
        "colab": {
          "base_uri": "https://localhost:8080/"
        },
        "id": "dpV4gttssSpt",
        "outputId": "95703c15-99b7-457c-eb60-a647ffbb0391"
      },
      "source": [
        "try:\n",
        "    from itertools import chain\n",
        "    print(\"Libreria 'itertools' se cargo correctamente\")\n",
        "except ModuleNotFoundError:\n",
        "    print(\"Libreria 'itertools' no esta instalada\")\n",
        "    get_ipython().system('pip install itertools')\n",
        "    from itertools import chain"
      ],
      "execution_count": 5,
      "outputs": [
        {
          "output_type": "stream",
          "text": [
            "Libreria 'itertools' se cargo correctamente\n"
          ],
          "name": "stdout"
        }
      ]
    },
    {
      "cell_type": "code",
      "metadata": {
        "colab": {
          "base_uri": "https://localhost:8080/"
        },
        "id": "dz8K1FHnrNCM",
        "outputId": "854dcf6b-3868-48f5-d6b2-fc1a934091c9"
      },
      "source": [
        "try:\n",
        "    import joblib\n",
        "    print(\"Libreria 'joblib' se cargo correctamente\")\n",
        "except ModuleNotFoundError:\n",
        "    print(\"Libreria 'joblib' no esta instalada\")\n",
        "    get_ipython().system('pip install joblib')\n",
        "    import joblib"
      ],
      "execution_count": 6,
      "outputs": [
        {
          "output_type": "stream",
          "text": [
            "Libreria 'joblib' se cargo correctamente\n"
          ],
          "name": "stdout"
        }
      ]
    },
    {
      "cell_type": "markdown",
      "metadata": {
        "id": "dsdSxua1qdrV"
      },
      "source": [
        "**Lista de oraciones de entrenamiento**"
      ]
    },
    {
      "cell_type": "code",
      "metadata": {
        "id": "vud8G-02qoWc"
      },
      "source": [
        "oraciones_entrenamiento = [\n",
        "('La vida será todo lo positiva que tú le permitas ser', 'pos'),\n",
        "('Esperar puede ser muy difícil pero recoger los frutos de lo sembrado será un gozo', 'pos'),\n",
        "('Aprender a aceptarte es el primer paso para alcanzar la paz interior', 'pos'),\n",
        "('Sólo el amor tiene la fuerza de cambiar la vida de otra persona en cosas de minutos', 'pos'),\n",
        "('Nunca pierdas la esperanza porque la alegría podría entrar por la puerta que olvidaste cerrar', 'pos'),\n",
        "('No viniste nunca más por aquí', 'neg'),\n",
        "('No entiendo cómo pueden hacer eso', 'neg'),\n",
        "('Ya no quedan formas de salir de aquí sin arriesgarse demasiado', 'neg'),\n",
        "('Espero no equivocarme con mi pronóstico', 'neg'),\n",
        "('No había manera de fallar no puedo creer lo que sucedió', 'neg')]"
      ],
      "execution_count": 55,
      "outputs": []
    },
    {
      "cell_type": "markdown",
      "metadata": {
        "id": "LcWsOm8xqtyb"
      },
      "source": [
        "**lista de oraciones para test**"
      ]
    },
    {
      "cell_type": "code",
      "metadata": {
        "id": "QCktQLiSqw_j"
      },
      "source": [
        "oracion_prueba_positiva = \"La unica diferencia entre el éxito y el fracaso, es la actitud ante la vida\"\n",
        "oracion_prueba_negativa = \"No entiendo nada de lo que enseñaron la semana pasada\""
      ],
      "execution_count": 54,
      "outputs": []
    },
    {
      "cell_type": "code",
      "metadata": {
        "colab": {
          "base_uri": "https://localhost:8080/"
        },
        "id": "uv8ZSjFMvjDr",
        "outputId": "65617db7-5891-4f92-c06d-8b8943ba7221"
      },
      "source": [
        "import nltk\n",
        "nltk.download('punkt')\n",
        "vocabulario = set(chain(*[word_tokenize(i[0].lower())\n",
        " for i in oraciones_entrenamiento]))"
      ],
      "execution_count": 56,
      "outputs": [
        {
          "output_type": "stream",
          "text": [
            "[nltk_data] Downloading package punkt to /root/nltk_data...\n",
            "[nltk_data]   Package punkt is already up-to-date!\n"
          ],
          "name": "stdout"
        }
      ]
    },
    {
      "cell_type": "code",
      "metadata": {
        "id": "EQlPr-GGsaWV"
      },
      "source": [
        "array_palabras = [({i:(i in word_tokenize(sentence.lower())) for i in vocabulario},tag) for sentence, tag in oraciones_entrenamiento]"
      ],
      "execution_count": 57,
      "outputs": []
    },
    {
      "cell_type": "code",
      "metadata": {
        "colab": {
          "base_uri": "https://localhost:8080/"
        },
        "id": "E6S1fndhtYd5",
        "outputId": "3643b28d-0dc4-4660-c19b-a13aafd33775"
      },
      "source": [
        "for i in array_palabras:\n",
        "  print('Oracion:')\n",
        "  print(i)\n",
        "  "
      ],
      "execution_count": 24,
      "outputs": [
        {
          "output_type": "stream",
          "text": [
            "Oracion:\n",
            "({'demasiado': False, 'entiendo': False, 'difícil': False, 'cómo': False, 'de': False, 'puedo': False, 'un': False, 'espero': False, 'muy': False, 'entrar': False, 'primer': False, 'sucedió': False, 'quedan': False, 'tú': True, 'manera': False, 'ser': True, 'interior': False, 'puerta': False, 'cambiar': False, 'lo': True, 'será': True, 'ya': False, 'paso': False, 'vida': True, 'fuerza': False, 'que': True, 'aprender': False, 'recoger': False, 'frutos': False, 'minutos': False, 'pueden': False, 'mi': False, 'olvidaste': False, 'porque': False, 'podría': False, 'sembrado': False, 'equivocarme': False, 'esperanza': False, 'persona': False, 'los': False, 'alegría': False, 'pero': False, 'tiene': False, 'alcanzar': False, 'todo': True, 'gozo': False, 'formas': False, 'esperar': False, 'pronóstico': False, 'por': False, 'permitas': True, 'pierdas': False, 'más': False, 'es': False, 'no': False, 'sólo': False, 'fallar': False, 'había': False, 'la': True, 'cerrar': False, 'otra': False, 'eso': False, 'en': False, 'creer': False, 'puede': False, 'para': False, 'hacer': False, 'salir': False, 'sin': False, 'arriesgarse': False, 'le': True, 'cosas': False, 'el': False, 'aquí': False, 'positiva': True, 'nunca': False, 'a': False, 'paz': False, 'con': False, 'aceptarte': False, 'amor': False, 'viniste': False}, 'pos')\n",
            "Oracion:\n",
            "({'demasiado': False, 'entiendo': False, 'difícil': True, 'cómo': False, 'de': True, 'puedo': False, 'un': True, 'espero': False, 'muy': True, 'entrar': False, 'primer': False, 'sucedió': False, 'quedan': False, 'tú': False, 'manera': False, 'ser': True, 'interior': False, 'puerta': False, 'cambiar': False, 'lo': True, 'será': True, 'ya': False, 'paso': False, 'vida': False, 'fuerza': False, 'que': False, 'aprender': False, 'recoger': True, 'frutos': True, 'minutos': False, 'pueden': False, 'mi': False, 'olvidaste': False, 'porque': False, 'podría': False, 'sembrado': True, 'equivocarme': False, 'esperanza': False, 'persona': False, 'los': True, 'alegría': False, 'pero': True, 'tiene': False, 'alcanzar': False, 'todo': False, 'gozo': True, 'formas': False, 'esperar': True, 'pronóstico': False, 'por': False, 'permitas': False, 'pierdas': False, 'más': False, 'es': False, 'no': False, 'sólo': False, 'fallar': False, 'había': False, 'la': False, 'cerrar': False, 'otra': False, 'eso': False, 'en': False, 'creer': False, 'puede': True, 'para': False, 'hacer': False, 'salir': False, 'sin': False, 'arriesgarse': False, 'le': False, 'cosas': False, 'el': False, 'aquí': False, 'positiva': False, 'nunca': False, 'a': False, 'paz': False, 'con': False, 'aceptarte': False, 'amor': False, 'viniste': False}, 'pos')\n",
            "Oracion:\n",
            "({'demasiado': False, 'entiendo': False, 'difícil': False, 'cómo': False, 'de': False, 'puedo': False, 'un': False, 'espero': False, 'muy': False, 'entrar': False, 'primer': True, 'sucedió': False, 'quedan': False, 'tú': False, 'manera': False, 'ser': False, 'interior': True, 'puerta': False, 'cambiar': False, 'lo': False, 'será': False, 'ya': False, 'paso': True, 'vida': False, 'fuerza': False, 'que': False, 'aprender': True, 'recoger': False, 'frutos': False, 'minutos': False, 'pueden': False, 'mi': False, 'olvidaste': False, 'porque': False, 'podría': False, 'sembrado': False, 'equivocarme': False, 'esperanza': False, 'persona': False, 'los': False, 'alegría': False, 'pero': False, 'tiene': False, 'alcanzar': True, 'todo': False, 'gozo': False, 'formas': False, 'esperar': False, 'pronóstico': False, 'por': False, 'permitas': False, 'pierdas': False, 'más': False, 'es': True, 'no': False, 'sólo': False, 'fallar': False, 'había': False, 'la': True, 'cerrar': False, 'otra': False, 'eso': False, 'en': False, 'creer': False, 'puede': False, 'para': True, 'hacer': False, 'salir': False, 'sin': False, 'arriesgarse': False, 'le': False, 'cosas': False, 'el': True, 'aquí': False, 'positiva': False, 'nunca': False, 'a': True, 'paz': True, 'con': False, 'aceptarte': True, 'amor': False, 'viniste': False}, 'pos')\n",
            "Oracion:\n",
            "({'demasiado': False, 'entiendo': False, 'difícil': False, 'cómo': False, 'de': True, 'puedo': False, 'un': False, 'espero': False, 'muy': False, 'entrar': False, 'primer': False, 'sucedió': False, 'quedan': False, 'tú': False, 'manera': False, 'ser': False, 'interior': False, 'puerta': False, 'cambiar': True, 'lo': False, 'será': False, 'ya': False, 'paso': False, 'vida': True, 'fuerza': True, 'que': False, 'aprender': False, 'recoger': False, 'frutos': False, 'minutos': True, 'pueden': False, 'mi': False, 'olvidaste': False, 'porque': False, 'podría': False, 'sembrado': False, 'equivocarme': False, 'esperanza': False, 'persona': True, 'los': False, 'alegría': False, 'pero': False, 'tiene': True, 'alcanzar': False, 'todo': False, 'gozo': False, 'formas': False, 'esperar': False, 'pronóstico': False, 'por': False, 'permitas': False, 'pierdas': False, 'más': False, 'es': False, 'no': False, 'sólo': True, 'fallar': False, 'había': False, 'la': True, 'cerrar': False, 'otra': True, 'eso': False, 'en': True, 'creer': False, 'puede': False, 'para': False, 'hacer': False, 'salir': False, 'sin': False, 'arriesgarse': False, 'le': False, 'cosas': True, 'el': True, 'aquí': False, 'positiva': False, 'nunca': False, 'a': False, 'paz': False, 'con': False, 'aceptarte': False, 'amor': True, 'viniste': False}, 'pos')\n",
            "Oracion:\n",
            "({'demasiado': False, 'entiendo': False, 'difícil': False, 'cómo': False, 'de': False, 'puedo': False, 'un': False, 'espero': False, 'muy': False, 'entrar': True, 'primer': False, 'sucedió': False, 'quedan': False, 'tú': False, 'manera': False, 'ser': False, 'interior': False, 'puerta': True, 'cambiar': False, 'lo': False, 'será': False, 'ya': False, 'paso': False, 'vida': False, 'fuerza': False, 'que': True, 'aprender': False, 'recoger': False, 'frutos': False, 'minutos': False, 'pueden': False, 'mi': False, 'olvidaste': True, 'porque': True, 'podría': True, 'sembrado': False, 'equivocarme': False, 'esperanza': True, 'persona': False, 'los': False, 'alegría': True, 'pero': False, 'tiene': False, 'alcanzar': False, 'todo': False, 'gozo': False, 'formas': False, 'esperar': False, 'pronóstico': False, 'por': True, 'permitas': False, 'pierdas': True, 'más': False, 'es': False, 'no': False, 'sólo': False, 'fallar': False, 'había': False, 'la': True, 'cerrar': True, 'otra': False, 'eso': False, 'en': False, 'creer': False, 'puede': False, 'para': False, 'hacer': False, 'salir': False, 'sin': False, 'arriesgarse': False, 'le': False, 'cosas': False, 'el': False, 'aquí': False, 'positiva': False, 'nunca': True, 'a': False, 'paz': False, 'con': False, 'aceptarte': False, 'amor': False, 'viniste': False}, 'pos')\n",
            "Oracion:\n",
            "({'demasiado': False, 'entiendo': False, 'difícil': False, 'cómo': False, 'de': False, 'puedo': False, 'un': False, 'espero': False, 'muy': False, 'entrar': False, 'primer': False, 'sucedió': False, 'quedan': False, 'tú': False, 'manera': False, 'ser': False, 'interior': False, 'puerta': False, 'cambiar': False, 'lo': False, 'será': False, 'ya': False, 'paso': False, 'vida': False, 'fuerza': False, 'que': False, 'aprender': False, 'recoger': False, 'frutos': False, 'minutos': False, 'pueden': False, 'mi': False, 'olvidaste': False, 'porque': False, 'podría': False, 'sembrado': False, 'equivocarme': False, 'esperanza': False, 'persona': False, 'los': False, 'alegría': False, 'pero': False, 'tiene': False, 'alcanzar': False, 'todo': False, 'gozo': False, 'formas': False, 'esperar': False, 'pronóstico': False, 'por': True, 'permitas': False, 'pierdas': False, 'más': True, 'es': False, 'no': True, 'sólo': False, 'fallar': False, 'había': False, 'la': False, 'cerrar': False, 'otra': False, 'eso': False, 'en': False, 'creer': False, 'puede': False, 'para': False, 'hacer': False, 'salir': False, 'sin': False, 'arriesgarse': False, 'le': False, 'cosas': False, 'el': False, 'aquí': True, 'positiva': False, 'nunca': True, 'a': False, 'paz': False, 'con': False, 'aceptarte': False, 'amor': False, 'viniste': True}, 'neg')\n",
            "Oracion:\n",
            "({'demasiado': False, 'entiendo': True, 'difícil': False, 'cómo': True, 'de': False, 'puedo': False, 'un': False, 'espero': False, 'muy': False, 'entrar': False, 'primer': False, 'sucedió': False, 'quedan': False, 'tú': False, 'manera': False, 'ser': False, 'interior': False, 'puerta': False, 'cambiar': False, 'lo': False, 'será': False, 'ya': False, 'paso': False, 'vida': False, 'fuerza': False, 'que': False, 'aprender': False, 'recoger': False, 'frutos': False, 'minutos': False, 'pueden': True, 'mi': False, 'olvidaste': False, 'porque': False, 'podría': False, 'sembrado': False, 'equivocarme': False, 'esperanza': False, 'persona': False, 'los': False, 'alegría': False, 'pero': False, 'tiene': False, 'alcanzar': False, 'todo': False, 'gozo': False, 'formas': False, 'esperar': False, 'pronóstico': False, 'por': False, 'permitas': False, 'pierdas': False, 'más': False, 'es': False, 'no': True, 'sólo': False, 'fallar': False, 'había': False, 'la': False, 'cerrar': False, 'otra': False, 'eso': True, 'en': False, 'creer': False, 'puede': False, 'para': False, 'hacer': True, 'salir': False, 'sin': False, 'arriesgarse': False, 'le': False, 'cosas': False, 'el': False, 'aquí': False, 'positiva': False, 'nunca': False, 'a': False, 'paz': False, 'con': False, 'aceptarte': False, 'amor': False, 'viniste': False}, 'neg')\n",
            "Oracion:\n",
            "({'demasiado': True, 'entiendo': False, 'difícil': False, 'cómo': False, 'de': True, 'puedo': False, 'un': False, 'espero': False, 'muy': False, 'entrar': False, 'primer': False, 'sucedió': False, 'quedan': True, 'tú': False, 'manera': False, 'ser': False, 'interior': False, 'puerta': False, 'cambiar': False, 'lo': False, 'será': False, 'ya': True, 'paso': False, 'vida': False, 'fuerza': False, 'que': False, 'aprender': False, 'recoger': False, 'frutos': False, 'minutos': False, 'pueden': False, 'mi': False, 'olvidaste': False, 'porque': False, 'podría': False, 'sembrado': False, 'equivocarme': False, 'esperanza': False, 'persona': False, 'los': False, 'alegría': False, 'pero': False, 'tiene': False, 'alcanzar': False, 'todo': False, 'gozo': False, 'formas': True, 'esperar': False, 'pronóstico': False, 'por': False, 'permitas': False, 'pierdas': False, 'más': False, 'es': False, 'no': True, 'sólo': False, 'fallar': False, 'había': False, 'la': False, 'cerrar': False, 'otra': False, 'eso': False, 'en': False, 'creer': False, 'puede': False, 'para': False, 'hacer': False, 'salir': True, 'sin': True, 'arriesgarse': True, 'le': False, 'cosas': False, 'el': False, 'aquí': True, 'positiva': False, 'nunca': False, 'a': False, 'paz': False, 'con': False, 'aceptarte': False, 'amor': False, 'viniste': False}, 'neg')\n",
            "Oracion:\n",
            "({'demasiado': False, 'entiendo': False, 'difícil': False, 'cómo': False, 'de': False, 'puedo': False, 'un': False, 'espero': True, 'muy': False, 'entrar': False, 'primer': False, 'sucedió': False, 'quedan': False, 'tú': False, 'manera': False, 'ser': False, 'interior': False, 'puerta': False, 'cambiar': False, 'lo': False, 'será': False, 'ya': False, 'paso': False, 'vida': False, 'fuerza': False, 'que': False, 'aprender': False, 'recoger': False, 'frutos': False, 'minutos': False, 'pueden': False, 'mi': True, 'olvidaste': False, 'porque': False, 'podría': False, 'sembrado': False, 'equivocarme': True, 'esperanza': False, 'persona': False, 'los': False, 'alegría': False, 'pero': False, 'tiene': False, 'alcanzar': False, 'todo': False, 'gozo': False, 'formas': False, 'esperar': False, 'pronóstico': True, 'por': False, 'permitas': False, 'pierdas': False, 'más': False, 'es': False, 'no': True, 'sólo': False, 'fallar': False, 'había': False, 'la': False, 'cerrar': False, 'otra': False, 'eso': False, 'en': False, 'creer': False, 'puede': False, 'para': False, 'hacer': False, 'salir': False, 'sin': False, 'arriesgarse': False, 'le': False, 'cosas': False, 'el': False, 'aquí': False, 'positiva': False, 'nunca': False, 'a': False, 'paz': False, 'con': True, 'aceptarte': False, 'amor': False, 'viniste': False}, 'neg')\n",
            "Oracion:\n",
            "({'demasiado': False, 'entiendo': False, 'difícil': False, 'cómo': False, 'de': True, 'puedo': True, 'un': False, 'espero': False, 'muy': False, 'entrar': False, 'primer': False, 'sucedió': True, 'quedan': False, 'tú': False, 'manera': True, 'ser': False, 'interior': False, 'puerta': False, 'cambiar': False, 'lo': True, 'será': False, 'ya': False, 'paso': False, 'vida': False, 'fuerza': False, 'que': True, 'aprender': False, 'recoger': False, 'frutos': False, 'minutos': False, 'pueden': False, 'mi': False, 'olvidaste': False, 'porque': False, 'podría': False, 'sembrado': False, 'equivocarme': False, 'esperanza': False, 'persona': False, 'los': False, 'alegría': False, 'pero': False, 'tiene': False, 'alcanzar': False, 'todo': False, 'gozo': False, 'formas': False, 'esperar': False, 'pronóstico': False, 'por': False, 'permitas': False, 'pierdas': False, 'más': False, 'es': False, 'no': True, 'sólo': False, 'fallar': True, 'había': True, 'la': False, 'cerrar': False, 'otra': False, 'eso': False, 'en': False, 'creer': True, 'puede': False, 'para': False, 'hacer': False, 'salir': False, 'sin': False, 'arriesgarse': False, 'le': False, 'cosas': False, 'el': False, 'aquí': False, 'positiva': False, 'nunca': False, 'a': False, 'paz': False, 'con': False, 'aceptarte': False, 'amor': False, 'viniste': False}, 'neg')\n"
          ],
          "name": "stdout"
        }
      ]
    },
    {
      "cell_type": "code",
      "metadata": {
        "id": "SyivIWtZta_z"
      },
      "source": [
        "Max_classifier = MaxentClassifier.train(array_palabras, trace=0, max_iter=3, min_lldelta=0.5)"
      ],
      "execution_count": 58,
      "outputs": []
    },
    {
      "cell_type": "code",
      "metadata": {
        "id": "2S3hjluvvvGI"
      },
      "source": [
        "array_positiva = {i:(i in word_tokenize(oracion_prueba_positiva.lower())) for i in vocabulario}"
      ],
      "execution_count": 59,
      "outputs": []
    },
    {
      "cell_type": "code",
      "metadata": {
        "id": "NR-TDY7Vv0RF"
      },
      "source": [
        "arary_negativo = {i:(i in word_tokenize(oracion_prueba_negativa.lower())) for i in vocabulario}"
      ],
      "execution_count": 61,
      "outputs": []
    },
    {
      "cell_type": "code",
      "metadata": {
        "colab": {
          "base_uri": "https://localhost:8080/",
          "height": 35
        },
        "id": "oytbMhCfv-Z7",
        "outputId": "3f1095df-21f8-44e3-8d5b-bb0606506456"
      },
      "source": [
        "Max_classifier.classify(array_positiva)"
      ],
      "execution_count": 62,
      "outputs": [
        {
          "output_type": "execute_result",
          "data": {
            "application/vnd.google.colaboratory.intrinsic+json": {
              "type": "string"
            },
            "text/plain": [
              "'pos'"
            ]
          },
          "metadata": {
            "tags": []
          },
          "execution_count": 62
        }
      ]
    },
    {
      "cell_type": "code",
      "metadata": {
        "colab": {
          "base_uri": "https://localhost:8080/",
          "height": 35
        },
        "id": "NgYUoGcawEXv",
        "outputId": "f83153bc-e5ea-4f67-cb7e-0a5f0516d868"
      },
      "source": [
        "Max_classifier.classify(arary_negativo)"
      ],
      "execution_count": 63,
      "outputs": [
        {
          "output_type": "execute_result",
          "data": {
            "application/vnd.google.colaboratory.intrinsic+json": {
              "type": "string"
            },
            "text/plain": [
              "'neg'"
            ]
          },
          "metadata": {
            "tags": []
          },
          "execution_count": 63
        }
      ]
    },
    {
      "cell_type": "markdown",
      "metadata": {
        "id": "9BVyR-YiwWPD"
      },
      "source": [
        "**uso de sklearn**\n"
      ]
    },
    {
      "cell_type": "code",
      "metadata": {
        "id": "Oifpid4Mwbew"
      },
      "source": [
        "SKClssifier=SklearnClassifier(MultinomialNB())"
      ],
      "execution_count": 64,
      "outputs": []
    },
    {
      "cell_type": "code",
      "metadata": {
        "colab": {
          "base_uri": "https://localhost:8080/"
        },
        "id": "8mTDJCH_wj6k",
        "outputId": "aa5f3aaa-209f-4df3-83d4-c608321aae4d"
      },
      "source": [
        "SKClssifier.train(array_palabras)"
      ],
      "execution_count": 65,
      "outputs": [
        {
          "output_type": "execute_result",
          "data": {
            "text/plain": [
              "<SklearnClassifier(MultinomialNB(alpha=1.0, class_prior=None, fit_prior=True))>"
            ]
          },
          "metadata": {
            "tags": []
          },
          "execution_count": 65
        }
      ]
    },
    {
      "cell_type": "code",
      "metadata": {
        "colab": {
          "base_uri": "https://localhost:8080/",
          "height": 35
        },
        "id": "EsVA9sVZwstT",
        "outputId": "585f4890-fd13-49a8-b349-00dea140b822"
      },
      "source": [
        "SKClssifier.classify(array_positiva)"
      ],
      "execution_count": 66,
      "outputs": [
        {
          "output_type": "execute_result",
          "data": {
            "application/vnd.google.colaboratory.intrinsic+json": {
              "type": "string"
            },
            "text/plain": [
              "'pos'"
            ]
          },
          "metadata": {
            "tags": []
          },
          "execution_count": 66
        }
      ]
    },
    {
      "cell_type": "code",
      "metadata": {
        "colab": {
          "base_uri": "https://localhost:8080/",
          "height": 35
        },
        "id": "RI1ZSmUjw3FY",
        "outputId": "c508e32f-ac2c-46d0-9c30-939350eb1012"
      },
      "source": [
        "SKClssifier.classify(arary_negativo)"
      ],
      "execution_count": 67,
      "outputs": [
        {
          "output_type": "execute_result",
          "data": {
            "application/vnd.google.colaboratory.intrinsic+json": {
              "type": "string"
            },
            "text/plain": [
              "'neg'"
            ]
          },
          "metadata": {
            "tags": []
          },
          "execution_count": 67
        }
      ]
    }
  ]
}